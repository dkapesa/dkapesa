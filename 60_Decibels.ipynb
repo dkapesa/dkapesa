{
  "nbformat": 4,
  "nbformat_minor": 0,
  "metadata": {
    "colab": {
      "provenance": [],
      "authorship_tag": "ABX9TyMFGCtTx8i/gMx0cdDkiceV",
      "include_colab_link": true
    },
    "kernelspec": {
      "name": "python3",
      "display_name": "Python 3"
    },
    "language_info": {
      "name": "python"
    }
  },
  "cells": [
    {
      "cell_type": "markdown",
      "metadata": {
        "id": "view-in-github",
        "colab_type": "text"
      },
      "source": [
        "<a href=\"https://colab.research.google.com/github/dkapesa/dkapesa/blob/main/60_Decibels.ipynb\" target=\"_parent\"><img src=\"https://colab.research.google.com/assets/colab-badge.svg\" alt=\"Open In Colab\"/></a>"
      ]
    },
    {
      "cell_type": "code",
      "execution_count": null,
      "metadata": {
        "id": "hRCb5I9s6CB5"
      },
      "outputs": [],
      "source": [
        "import pandas as pd"
      ]
    },
    {
      "cell_type": "code",
      "source": [
        "file_path = '/content/Trial Task 1 - Business Analyst.xlsx'"
      ],
      "metadata": {
        "id": "uW-dLhT69ea2"
      },
      "execution_count": null,
      "outputs": []
    },
    {
      "cell_type": "code",
      "source": [
        "first_access = pd.read_excel(file_path, sheet_name='first_access')\n",
        "quality_of_life = pd.read_excel(file_path, sheet_name='quality_of_life')\n",
        "financial_goal = pd.read_excel(file_path, sheet_name='financial_goal')\n",
        "benchmarks = pd.read_excel(file_path, sheet_name='benchmarks')"
      ],
      "metadata": {
        "id": "eQ4_hjYI9h3M"
      },
      "execution_count": null,
      "outputs": []
    },
    {
      "cell_type": "code",
      "source": [
        "def clean_column_names(df):\n",
        "    df.columns = df.columns.str.strip().str.lower().str.replace(' ', '_')\n",
        "    return df\n",
        "\n",
        "first_access = clean_column_names(first_access)\n",
        "quality_of_life = clean_column_names(quality_of_life)\n",
        "financial_goal = clean_column_names(financial_goal)\n",
        "benchmarks = clean_column_names(benchmarks)\n"
      ],
      "metadata": {
        "id": "PzfJtJ2X9mpD"
      },
      "execution_count": null,
      "outputs": []
    },
    {
      "cell_type": "code",
      "source": [
        "first_access = first_access.drop_duplicates()\n",
        "quality_of_life = quality_of_life.drop_duplicates()\n",
        "financial_goal = financial_goal.drop_duplicates()"
      ],
      "metadata": {
        "id": "-ymqqS1K9qpw"
      },
      "execution_count": null,
      "outputs": []
    },
    {
      "cell_type": "code",
      "source": [
        "first_access = first_access.fillna('Unknown')\n",
        "quality_of_life = quality_of_life.fillna('Unknown')\n",
        "financial_goal = financial_goal.fillna('Unknown')"
      ],
      "metadata": {
        "id": "FvtIJ2669uVF"
      },
      "execution_count": null,
      "outputs": []
    },
    {
      "cell_type": "code",
      "source": [
        "for df in [first_access, quality_of_life, financial_goal]:\n",
        "    df['year_purchase'] = pd.to_numeric(df.get('year_purchase', pd.Series(dtype='float')), errors='coerce')\n",
        "    df['active_client'] = df['active_client'].astype(str)\n"
      ],
      "metadata": {
        "id": "3sviG6lg9wPj"
      },
      "execution_count": null,
      "outputs": []
    },
    {
      "cell_type": "code",
      "source": [
        "aggregated_data = pd.concat([first_access, quality_of_life, financial_goal], ignore_index=True)\n",
        "\n",
        "aggregated_data.to_csv('aggregated_responses.csv', index=False)"
      ],
      "metadata": {
        "id": "wH_H32_x9yx9"
      },
      "execution_count": null,
      "outputs": []
    },
    {
      "cell_type": "code",
      "source": [
        "# Checking for non-numeric values in the 'answer' column\n",
        "def convert_to_numeric(value):\n",
        "    try:\n",
        "        return float(value)  # Convert if possible\n",
        "    except ValueError:\n",
        "        # This to handle specific categorical responses (e.g., 'Yes' = 1, 'No' = 0)\n",
        "        if value.lower() == 'yes':\n",
        "            return 1\n",
        "        elif value.lower() == 'no':\n",
        "            return 0\n",
        "        else:\n",
        "            return None\n",
        "\n",
        "# Applying conversion to 'answer' column\n",
        "merged_data['numeric_answer'] = merged_data['answer'].apply(convert_to_numeric)\n",
        "\n",
        "# Drop rows where 'numeric_answer' or 'value' is not numeric\n",
        "merged_data = merged_data.dropna(subset=['numeric_answer', 'value'])\n",
        "\n",
        "# Calculating the performance difference\n",
        "merged_data['performance_difference'] = merged_data['numeric_answer'] - merged_data['value']\n"
      ],
      "metadata": {
        "colab": {
          "base_uri": "https://localhost:8080/"
        },
        "id": "maYuWJhX94Lk",
        "outputId": "13ae8cf9-7ebe-4988-d917-2c45dbc84f6b"
      },
      "execution_count": null,
      "outputs": [
        {
          "output_type": "stream",
          "name": "stderr",
          "text": [
            "<ipython-input-12-3b11ada67668>:21: SettingWithCopyWarning: \n",
            "A value is trying to be set on a copy of a slice from a DataFrame.\n",
            "Try using .loc[row_indexer,col_indexer] = value instead\n",
            "\n",
            "See the caveats in the documentation: https://pandas.pydata.org/pandas-docs/stable/user_guide/indexing.html#returning-a-view-versus-a-copy\n",
            "  merged_data['performance_difference'] = merged_data['numeric_answer'] - merged_data['value']\n"
          ]
        }
      ]
    },
    {
      "cell_type": "code",
      "source": [
        "# Ensuring that the 'answer' column is numeric\n",
        "merged_data['answer_numeric'] = pd.to_numeric(merged_data['answer'], errors='coerce')\n",
        "\n",
        "# Grouping by company and calculating mean performance difference and answers\n",
        "summary = merged_data.groupby('company').agg({\n",
        "    'performance_difference': 'mean',          # Mean performance difference\n",
        "    'answer_numeric': 'mean'                   # Mean numeric answers\n",
        "}).reset_index()\n",
        "\n",
        "# Renamning the columns for clarity\n",
        "summary.columns = ['Company', 'Avg Performance Difference', 'Avg Numeric Answer']\n",
        "\n",
        "# Save summary to a CSV file\n",
        "summary.to_csv('summary_for_ceos.csv', index=False)\n",
        "\n",
        "# Print summary\n",
        "print(summary)"
      ],
      "metadata": {
        "colab": {
          "base_uri": "https://localhost:8080/"
        },
        "id": "NIC7rghc-YjO",
        "outputId": "9a548edf-77c9-4d23-fdf6-d5ab68e415df"
      },
      "execution_count": null,
      "outputs": [
        {
          "output_type": "stream",
          "name": "stdout",
          "text": [
            "           Company  Avg Performance Difference  Avg Numeric Answer\n",
            "0          AhoraSi                   -0.093826                 NaN\n",
            "1  Banco Patagonia                   -0.064028                 NaN\n"
          ]
        }
      ]
    },
    {
      "cell_type": "code",
      "source": [
        "import matplotlib.pyplot as plt\n",
        "import seaborn as sns\n",
        "\n",
        "# Bar chart of performance differences\n",
        "plt.figure(figsize=(10, 6))\n",
        "sns.barplot(data=summary, x='Company', y='Avg Performance Difference', palette='viridis')\n",
        "plt.title('Average Performance Difference by Company')\n",
        "plt.ylabel('Performance Difference')\n",
        "plt.xlabel('Company')\n",
        "plt.show()"
      ],
      "metadata": {
        "colab": {
          "base_uri": "https://localhost:8080/",
          "height": 531
        },
        "id": "gfcIrSHm-xEu",
        "outputId": "075cd69e-9d6b-44c5-9488-a68c771246b3"
      },
      "execution_count": null,
      "outputs": [
        {
          "output_type": "stream",
          "name": "stderr",
          "text": [
            "<ipython-input-15-b244ed2cfc78>:6: FutureWarning: \n",
            "\n",
            "Passing `palette` without assigning `hue` is deprecated and will be removed in v0.14.0. Assign the `x` variable to `hue` and set `legend=False` for the same effect.\n",
            "\n",
            "  sns.barplot(data=summary, x='Company', y='Avg Performance Difference', palette='viridis')\n"
          ]
        },
        {
          "output_type": "display_data",
          "data": {
            "text/plain": [
              "<Figure size 1000x600 with 1 Axes>"
            ],
            "image/png": "[encoded data removed]"
          },
          "metadata": {}
        }
      ]
    },
    {
      "cell_type": "code",
      "source": [
        "from google.colab import files\n",
        "\n",
        "# Save aggregated table\n",
        "aggregated_data.to_csv('aggregated_responses.csv', index=False)\n",
        "\n",
        "# Download the file\n",
        "files.download('aggregated_responses.csv')"
      ],
      "metadata": {
        "colab": {
          "base_uri": "https://localhost:8080/",
          "height": 17
        },
        "id": "WWqMg-XZ_WsV",
        "outputId": "a1e09b30-5f9d-481c-a8c3-3fe635f1121f"
      },
      "execution_count": null,
      "outputs": [
        {
          "output_type": "display_data",
          "data": {
            "text/plain": [
              "<IPython.core.display.Javascript object>"
            ],
            "application/javascript": [
              "\n",
              "    async function download(id, filename, size) {\n",
              "      if (!google.colab.kernel.accessAllowed) {\n",
              "        return;\n",
              "      }\n",
              "      const div = document.createElement('div');\n",
              "      const label = document.createElement('label');\n",
              "      label.textContent = `Downloading \"${filename}\": `;\n",
              "      div.appendChild(label);\n",
              "      const progress = document.createElement('progress');\n",
              "      progress.max = size;\n",
              "      div.appendChild(progress);\n",
              "      document.body.appendChild(div);\n",
              "\n",
              "      const buffers = [];\n",
              "      let downloaded = 0;\n",
              "\n",
              "      const channel = await google.colab.kernel.comms.open(id);\n",
              "      // Send a message to notify the kernel that we're ready.\n",
              "      channel.send({})\n",
              "\n",
              "      for await (const message of channel.messages) {\n",
              "        // Send a message to notify the kernel that we're ready.\n",
              "        channel.send({})\n",
              "        if (message.buffers) {\n",
              "          for (const buffer of message.buffers) {\n",
              "            buffers.push(buffer);\n",
              "            downloaded += buffer.byteLength;\n",
              "            progress.value = downloaded;\n",
              "          }\n",
              "        }\n",
              "      }\n",
              "      const blob = new Blob(buffers, {type: 'application/binary'});\n",
              "      const a = document.createElement('a');\n",
              "      a.href = window.URL.createObjectURL(blob);\n",
              "      a.download = filename;\n",
              "      div.appendChild(a);\n",
              "      a.click();\n",
              "      div.remove();\n",
              "    }\n",
              "  "
            ]
          },
          "metadata": {}
        },
        {
          "output_type": "display_data",
          "data": {
            "text/plain": [
              "<IPython.core.display.Javascript object>"
            ],
            "application/javascript": [
              "download(\"download_932e5952-ec88-42b1-84d0-e826e8cfc8c3\", \"aggregated_responses.csv\", 165582)"
            ]
          },
          "metadata": {}
        }
      ]
    },
    {
      "cell_type": "code",
      "source": [
        "# Save CEO summary\n",
        "summary.to_csv('summary_for_ceos.csv', index=False)\n",
        "\n",
        "# Download the file\n",
        "files.download('summary_for_ceos.csv')"
      ],
      "metadata": {
        "colab": {
          "base_uri": "https://localhost:8080/",
          "height": 17
        },
        "id": "Lf9EGmYn_k1V",
        "outputId": "a10cac68-5ba6-459c-d34e-cb403d698c4d"
      },
      "execution_count": null,
      "outputs": [
        {
          "output_type": "display_data",
          "data": {
            "text/plain": [
              "<IPython.core.display.Javascript object>"
            ],
            "application/javascript": [
              "\n",
              "    async function download(id, filename, size) {\n",
              "      if (!google.colab.kernel.accessAllowed) {\n",
              "        return;\n",
              "      }\n",
              "      const div = document.createElement('div');\n",
              "      const label = document.createElement('label');\n",
              "      label.textContent = `Downloading \"${filename}\": `;\n",
              "      div.appendChild(label);\n",
              "      const progress = document.createElement('progress');\n",
              "      progress.max = size;\n",
              "      div.appendChild(progress);\n",
              "      document.body.appendChild(div);\n",
              "\n",
              "      const buffers = [];\n",
              "      let downloaded = 0;\n",
              "\n",
              "      const channel = await google.colab.kernel.comms.open(id);\n",
              "      // Send a message to notify the kernel that we're ready.\n",
              "      channel.send({})\n",
              "\n",
              "      for await (const message of channel.messages) {\n",
              "        // Send a message to notify the kernel that we're ready.\n",
              "        channel.send({})\n",
              "        if (message.buffers) {\n",
              "          for (const buffer of message.buffers) {\n",
              "            buffers.push(buffer);\n",
              "            downloaded += buffer.byteLength;\n",
              "            progress.value = downloaded;\n",
              "          }\n",
              "        }\n",
              "      }\n",
              "      const blob = new Blob(buffers, {type: 'application/binary'});\n",
              "      const a = document.createElement('a');\n",
              "      a.href = window.URL.createObjectURL(blob);\n",
              "      a.download = filename;\n",
              "      div.appendChild(a);\n",
              "      a.click();\n",
              "      div.remove();\n",
              "    }\n",
              "  "
            ]
          },
          "metadata": {}
        },
        {
          "output_type": "display_data",
          "data": {
            "text/plain": [
              "<IPython.core.display.Javascript object>"
            ],
            "application/javascript": [
              "download(\"download_9701ae61-d2cd-4d3d-84fa-c7334c362d29\", \"summary_for_ceos.csv\", 122)"
            ]
          },
          "metadata": {}
        }
      ]
    },
    {
      "cell_type": "code",
      "source": [
        "indicator_summary = merged_data.groupby(['company', 'indicator']).agg({\n",
        "    'performance_difference': 'mean'\n",
        "}).reset_index()\n",
        "\n",
        "print(indicator_summary)\n"
      ],
      "metadata": {
        "colab": {
          "base_uri": "https://localhost:8080/"
        },
        "id": "fFxZwsqfCLwK",
        "outputId": "b1240501-8e83-4814-ee60-e09247630944"
      },
      "execution_count": null,
      "outputs": [
        {
          "output_type": "stream",
          "name": "stdout",
          "text": [
            "           company     indicator  performance_difference\n",
            "0          AhoraSi  first_access               -0.093826\n",
            "1  Banco Patagonia  first_access               -0.064028\n"
          ]
        }
      ]
    },
    {
      "cell_type": "code",
      "source": [
        "# checking missing or anomalous values\n",
        "missing_values = aggregated_data.isnull().sum()\n",
        "print(missing_values)"
      ],
      "metadata": {
        "colab": {
          "base_uri": "https://localhost:8080/"
        },
        "id": "pgGnhTKGCVDA",
        "outputId": "d3bf5868-0b24-4cb7-8604-1a922df4fce3"
      },
      "execution_count": null,
      "outputs": [
        {
          "output_type": "stream",
          "name": "stdout",
          "text": [
            "respondent_id         0\n",
            "company             472\n",
            "survey                0\n",
            "country               0\n",
            "region              472\n",
            "gender                0\n",
            "indicator           345\n",
            "answer              817\n",
            "active_client         0\n",
            "year_purchase       472\n",
            "quality_of_life    1162\n",
            "company_name       1035\n",
            "region_name        1035\n",
            "answer_given       1035\n",
            "purchase_year      1035\n",
            "dtype: int64\n"
          ]
        }
      ]
    },
    {
      "cell_type": "code",
      "source": [
        "# looking at demographic factors\n",
        "demographic_analysis = merged_data.groupby(['company', 'gender']).agg({\n",
        "    'performance_difference': 'mean'\n",
        "}).reset_index()\n",
        "\n",
        "print(demographic_analysis)"
      ],
      "metadata": {
        "colab": {
          "base_uri": "https://localhost:8080/"
        },
        "id": "c3DzdBCeCZhw",
        "outputId": "f5d1be36-89e3-4f74-d202-0dbfbcdbbf53"
      },
      "execution_count": null,
      "outputs": [
        {
          "output_type": "stream",
          "name": "stdout",
          "text": [
            "           company   gender  performance_difference\n",
            "0          AhoraSi   Female               -0.137945\n",
            "1          AhoraSi     Male                0.019306\n",
            "2          AhoraSi  Unknown               -0.036250\n",
            "3  Banco Patagonia   Female               -0.137945\n",
            "4  Banco Patagonia     Male                0.090869\n",
            "5  Banco Patagonia  Unknown               -0.202917\n"
          ]
        }
      ]
    },
    {
      "cell_type": "code",
      "source": [
        "print(merged_data.dtypes)\n"
      ],
      "metadata": {
        "colab": {
          "base_uri": "https://localhost:8080/"
        },
        "id": "llKQ7BrwC9qL",
        "outputId": "d453bc40-1500-42f7-e972-99cce51f44a1"
      },
      "execution_count": null,
      "outputs": [
        {
          "output_type": "stream",
          "name": "stdout",
          "text": [
            "respondent_id               int64\n",
            "company                    object\n",
            "survey                     object\n",
            "country                    object\n",
            "region                     object\n",
            "gender                     object\n",
            "indicator                  object\n",
            "answer                     object\n",
            "active_client              object\n",
            "year_purchase             float64\n",
            "quality_of_life            object\n",
            "company_name               object\n",
            "region_name                object\n",
            "answer_given               object\n",
            "purchase_year             float64\n",
            "indicator_name             object\n",
            "benchmark                  object\n",
            "benchmark_detail           object\n",
            "data_type                  object\n",
            "value                     float64\n",
            "numeric_answer            float64\n",
            "performance_difference    float64\n",
            "answer_numeric            float64\n",
            "dtype: object\n"
          ]
        }
      ]
    },
    {
      "cell_type": "code",
      "source": [
        "numeric_data = merged_data.select_dtypes(include=['number'])\n"
      ],
      "metadata": {
        "id": "eAXVare8C_N_"
      },
      "execution_count": null,
      "outputs": []
    },
    {
      "cell_type": "code",
      "source": [
        "# comparing benchmarks\n",
        "benchmark_comparison = (\n",
        "    merged_data.groupby(['indicator'])\n",
        "    .agg({\n",
        "        'value': 'mean',  # Replace 'value' with the correct numeric column names\n",
        "        'performance_difference': 'mean'  # Ensure 'performance_difference' is numeric\n",
        "    })\n",
        "    .reset_index()\n",
        ")\n",
        "\n",
        "print(benchmark_comparison)"
      ],
      "metadata": {
        "colab": {
          "base_uri": "https://localhost:8080/"
        },
        "id": "BwCZpYNSDCvw",
        "outputId": "242c2c77-0631-4a62-e6d2-f86a02fc6198"
      },
      "execution_count": null,
      "outputs": [
        {
          "output_type": "stream",
          "name": "stdout",
          "text": [
            "      indicator    value  performance_difference\n",
            "0  first_access  0.53625               -0.078279\n"
          ]
        }
      ]
    },
    {
      "cell_type": "code",
      "source": [
        "heatmap_data = indicator_summary.pivot(index='indicator', columns='company', values='performance_difference')\n",
        "\n",
        "sns.heatmap(heatmap_data, annot=True, cmap='coolwarm', fmt=\".2f\")\n",
        "plt.title('Performance Differences by Indicator')\n",
        "plt.ylabel('Indicator')\n",
        "plt.xlabel('Company')\n",
        "plt.show()\n"
      ],
      "metadata": {
        "colab": {
          "base_uri": "https://localhost:8080/",
          "height": 472
        },
        "id": "TY4_09rUDZEI",
        "outputId": "fac8bcc7-0d7c-488a-e2c0-58a73b5f7fa9"
      },
      "execution_count": null,
      "outputs": [
        {
          "output_type": "display_data",
          "data": {
            "text/plain": [
              "<Figure size 640x480 with 2 Axes>"
            ],
            "image/png": "[encoded data removed]"
          },
          "metadata": {}
        }
      ]
    }
  ]
}